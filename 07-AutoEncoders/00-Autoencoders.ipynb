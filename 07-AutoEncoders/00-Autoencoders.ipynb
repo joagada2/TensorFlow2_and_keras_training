{
 "cells": [
  {
   "cell_type": "markdown",
   "metadata": {},
   "source": [
    "___\n",
    "\n",
    "<a href='http://www.pieriandata.com'><img src='../Pierian_Data_Logo.png'/></a>\n",
    "___\n",
    "<center><em>Copyright Pierian Data</em></center>\n",
    "<center><em>For more information, visit us at <a href='http://www.pieriandata.com'>www.pieriandata.com</a></em></center>\n",
    "\n",
    "# AutoEncoders for Dimensionality Reduction"
   ]
  },
  {
   "cell_type": "code",
   "execution_count": 1,
   "metadata": {},
   "outputs": [],
   "source": [
    "import numpy as np\n",
    "import pandas as pd\n",
    "import seaborn as sns\n",
    "import matplotlib.pyplot as plt"
   ]
  },
  {
   "cell_type": "code",
   "execution_count": 2,
   "metadata": {},
   "outputs": [],
   "source": [
    "from sklearn.datasets import make_blobs"
   ]
  },
  {
   "cell_type": "code",
   "execution_count": 3,
   "metadata": {},
   "outputs": [],
   "source": [
    "data = make_blobs(n_samples=300,\n",
    "    n_features=2,\n",
    "    centers=2,\n",
    "    cluster_std=1.0,random_state=101)"
   ]
  },
  {
   "cell_type": "code",
   "execution_count": 6,
   "metadata": {},
   "outputs": [],
   "source": [
    "X,y = data"
   ]
  },
  {
   "cell_type": "code",
   "execution_count": 7,
   "metadata": {},
   "outputs": [],
   "source": [
    "np.random.seed(seed=101)\n",
    "z_noise = np.random.normal(size=len(X))\n",
    "z_noise = pd.Series(z_noise)"
   ]
  },
  {
   "cell_type": "code",
   "execution_count": 8,
   "metadata": {},
   "outputs": [],
   "source": [
    "feat = pd.DataFrame(X)\n",
    "feat = pd.concat([feat,z_noise],axis=1)\n",
    "feat.columns = ['X1','X2','X3']"
   ]
  },
  {
   "cell_type": "code",
   "execution_count": 9,
   "metadata": {},
   "outputs": [
    {
     "data": {
      "text/html": [
       "<div>\n",
       "<style scoped>\n",
       "    .dataframe tbody tr th:only-of-type {\n",
       "        vertical-align: middle;\n",
       "    }\n",
       "\n",
       "    .dataframe tbody tr th {\n",
       "        vertical-align: top;\n",
       "    }\n",
       "\n",
       "    .dataframe thead th {\n",
       "        text-align: right;\n",
       "    }\n",
       "</style>\n",
       "<table border=\"1\" class=\"dataframe\">\n",
       "  <thead>\n",
       "    <tr style=\"text-align: right;\">\n",
       "      <th></th>\n",
       "      <th>X1</th>\n",
       "      <th>X2</th>\n",
       "      <th>X3</th>\n",
       "    </tr>\n",
       "  </thead>\n",
       "  <tbody>\n",
       "    <tr>\n",
       "      <th>0</th>\n",
       "      <td>-8.877721</td>\n",
       "      <td>-6.760078</td>\n",
       "      <td>2.706850</td>\n",
       "    </tr>\n",
       "    <tr>\n",
       "      <th>1</th>\n",
       "      <td>0.630638</td>\n",
       "      <td>3.107075</td>\n",
       "      <td>0.628133</td>\n",
       "    </tr>\n",
       "    <tr>\n",
       "      <th>2</th>\n",
       "      <td>-0.240609</td>\n",
       "      <td>2.820690</td>\n",
       "      <td>0.907969</td>\n",
       "    </tr>\n",
       "    <tr>\n",
       "      <th>3</th>\n",
       "      <td>-7.839091</td>\n",
       "      <td>-8.207545</td>\n",
       "      <td>0.503826</td>\n",
       "    </tr>\n",
       "    <tr>\n",
       "      <th>4</th>\n",
       "      <td>-10.972908</td>\n",
       "      <td>-7.390676</td>\n",
       "      <td>0.651118</td>\n",
       "    </tr>\n",
       "  </tbody>\n",
       "</table>\n",
       "</div>"
      ],
      "text/plain": [
       "          X1        X2        X3\n",
       "0  -8.877721 -6.760078  2.706850\n",
       "1   0.630638  3.107075  0.628133\n",
       "2  -0.240609  2.820690  0.907969\n",
       "3  -7.839091 -8.207545  0.503826\n",
       "4 -10.972908 -7.390676  0.651118"
      ]
     },
     "execution_count": 9,
     "metadata": {},
     "output_type": "execute_result"
    }
   ],
   "source": [
    "feat.head()"
   ]
  },
  {
   "cell_type": "code",
   "execution_count": 10,
   "metadata": {},
   "outputs": [
    {
     "data": {
      "text/plain": [
       "<matplotlib.collections.PathCollection at 0x22878088b70>"
      ]
     },
     "execution_count": 10,
     "metadata": {},
     "output_type": "execute_result"
    },
    {
     "data": {
      "image/png": "[encoded data removed]",
      "text/plain": [
       "<Figure size 432x288 with 1 Axes>"
      ]
     },
     "metadata": {
      "needs_background": "light"
     },
     "output_type": "display_data"
    }
   ],
   "source": [
    "plt.scatter(feat['X1'],feat['X2'],c=y)"
   ]
  },
  {
   "cell_type": "markdown",
   "metadata": {},
   "source": [
    "https://matplotlib.org/mpl_toolkits/mplot3d/tutorial.html#scatter-plots"
   ]
  },
  {
   "cell_type": "code",
   "execution_count": 11,
   "metadata": {},
   "outputs": [],
   "source": [
    "from mpl_toolkits.mplot3d import Axes3D"
   ]
  },
  {
   "cell_type": "code",
   "execution_count": 12,
   "metadata": {},
   "outputs": [],
   "source": [
    "# %matplotlib notebook"
   ]
  },
  {
   "cell_type": "code",
   "execution_count": 13,
   "metadata": {},
   "outputs": [
    {
     "data": {
      "text/plain": [
       "<mpl_toolkits.mplot3d.art3d.Path3DCollection at 0x22878238da0>"
      ]
     },
     "execution_count": 13,
     "metadata": {},
     "output_type": "execute_result"
    },
    {
     "data": {
      "image/png": "[encoded data removed]",
      "text/plain": [
       "<Figure size 432x288 with 1 Axes>"
      ]
     },
     "metadata": {
      "needs_background": "light"
     },
     "output_type": "display_data"
    }
   ],
   "source": [
    "fig = plt.figure()\n",
    "ax = fig.add_subplot(111, projection='3d')\n",
    "ax.scatter(feat['X1'],feat['X2'],feat['X3'],c=y)"
   ]
  },
  {
   "cell_type": "markdown",
   "metadata": {},
   "source": [
    "# Encoder and Decoder"
   ]
  },
  {
   "cell_type": "code",
   "execution_count": 14,
   "metadata": {},
   "outputs": [],
   "source": [
    "from tensorflow.keras.models import Sequential\n",
    "from tensorflow.keras.layers import Dense\n",
    "from tensorflow.keras.optimizers import SGD"
   ]
  },
  {
   "cell_type": "code",
   "execution_count": 15,
   "metadata": {},
   "outputs": [],
   "source": [
    "# 3 --> 2\n",
    "encoder = Sequential()\n",
    "encoder.add(Dense(units=2,activation='relu',input_shape=[3]))"
   ]
  },
  {
   "cell_type": "code",
   "execution_count": 16,
   "metadata": {},
   "outputs": [],
   "source": [
    "# 2 ---> 3\n",
    "decoder = Sequential()\n",
    "decoder.add(Dense(units=3,activation='relu',input_shape=[2]))"
   ]
  },
  {
   "cell_type": "code",
   "execution_count": 18,
   "metadata": {},
   "outputs": [],
   "source": [
    "# ENCODER\n",
    "# 3 ---> 2 ----> 3\n",
    "autoencoder = Sequential([encoder,decoder])\n",
    "autoencoder.compile(loss=\"mse\" ,optimizer=SGD(learning_rate=1.5))"
   ]
  },
  {
   "cell_type": "code",
   "execution_count": 19,
   "metadata": {},
   "outputs": [],
   "source": [
    "from sklearn.preprocessing import MinMaxScaler"
   ]
  },
  {
   "cell_type": "code",
   "execution_count": 20,
   "metadata": {},
   "outputs": [],
   "source": [
    "# Note how all the data is used! There is no \"right\" answer here\n",
    "scaler = MinMaxScaler()\n",
    "scaled_data = scaler.fit_transform(feat)"
   ]
  },
  {
   "cell_type": "code",
   "execution_count": 28,
   "metadata": {},
   "outputs": [],
   "source": [
    "# scaled_data"
   ]
  },
  {
   "cell_type": "code",
   "execution_count": 21,
   "metadata": {},
   "outputs": [
    {
     "name": "stdout",
     "output_type": "stream",
     "text": [
      "Epoch 1/5\n",
      "10/10 [==============================] - 0s 889us/step - loss: 0.2273\n",
      "Epoch 2/5\n",
      "10/10 [==============================] - 0s 2ms/step - loss: 0.1489\n",
      "Epoch 3/5\n",
      "10/10 [==============================] - 0s 2ms/step - loss: 0.1563\n",
      "Epoch 4/5\n",
      "10/10 [==============================] - 0s 2ms/step - loss: 0.1341\n",
      "Epoch 5/5\n",
      "10/10 [==============================] - 0s 2ms/step - loss: 0.1102\n"
     ]
    },
    {
     "data": {
      "text/plain": [
       "<keras.callbacks.History at 0x2287f410a90>"
      ]
     },
     "execution_count": 21,
     "metadata": {},
     "output_type": "execute_result"
    }
   ],
   "source": [
    "autoencoder.fit(scaled_data,scaled_data,epochs=5)"
   ]
  },
  {
   "cell_type": "code",
   "execution_count": 22,
   "metadata": {},
   "outputs": [],
   "source": [
    "encoded_2dim = encoder.predict(scaled_data)"
   ]
  },
  {
   "cell_type": "code",
   "execution_count": 25,
   "metadata": {},
   "outputs": [
    {
     "data": {
      "text/plain": [
       "array([[0.        , 0.        ],\n",
       "       [0.        , 0.9195634 ],\n",
       "       [0.        , 0.84387887],\n",
       "       [0.        , 0.        ],\n",
       "       [0.        , 0.        ],\n",
       "       [0.        , 0.        ],\n",
       "       [0.        , 0.8262905 ],\n",
       "       [0.        , 0.        ],\n",
       "       [0.        , 1.0051403 ],\n",
       "       [0.        , 0.83192134],\n",
       "       [0.        , 0.        ],\n",
       "       [0.        , 0.        ],\n",
       "       [0.        , 0.946795  ],\n",
       "       [0.        , 0.        ],\n",
       "       [0.        , 0.84940135],\n",
       "       [0.        , 0.        ],\n",
       "       [0.        , 0.80913985],\n",
       "       [0.        , 0.78437185],\n",
       "       [0.        , 0.6644943 ],\n",
       "       [0.        , 0.7333263 ],\n",
       "       [0.        , 0.        ],\n",
       "       [0.        , 0.8472228 ],\n",
       "       [0.        , 1.0170071 ],\n",
       "       [0.        , 0.        ],\n",
       "       [0.        , 0.        ],\n",
       "       [0.        , 0.8438016 ],\n",
       "       [0.        , 0.8626299 ],\n",
       "       [0.        , 0.76095617],\n",
       "       [0.        , 0.        ],\n",
       "       [0.        , 0.        ],\n",
       "       [0.        , 0.        ],\n",
       "       [0.        , 0.        ],\n",
       "       [0.        , 0.9223944 ],\n",
       "       [0.        , 0.9263452 ],\n",
       "       [0.        , 0.        ],\n",
       "       [0.        , 0.        ],\n",
       "       [0.        , 0.87643373],\n",
       "       [0.        , 0.89156353],\n",
       "       [0.        , 0.8965602 ],\n",
       "       [0.        , 0.68887734],\n",
       "       [0.        , 0.8234534 ],\n",
       "       [0.        , 0.        ],\n",
       "       [0.        , 0.7882856 ],\n",
       "       [0.        , 0.        ],\n",
       "       [0.        , 0.82781327],\n",
       "       [0.        , 0.        ],\n",
       "       [0.        , 0.        ],\n",
       "       [0.        , 0.        ],\n",
       "       [0.        , 0.        ],\n",
       "       [0.        , 0.        ],\n",
       "       [0.        , 0.        ],\n",
       "       [0.        , 0.        ],\n",
       "       [0.        , 0.8195213 ],\n",
       "       [0.        , 0.7807853 ],\n",
       "       [0.        , 0.74846053],\n",
       "       [0.        , 0.7600626 ],\n",
       "       [0.        , 0.849072  ],\n",
       "       [0.        , 0.7170553 ],\n",
       "       [0.        , 0.        ],\n",
       "       [0.        , 0.81545305],\n",
       "       [0.        , 0.        ],\n",
       "       [0.        , 0.        ],\n",
       "       [0.        , 0.        ],\n",
       "       [0.        , 0.93070424],\n",
       "       [0.        , 0.81339955],\n",
       "       [0.        , 0.8189434 ],\n",
       "       [0.        , 0.        ],\n",
       "       [0.        , 0.        ],\n",
       "       [0.        , 0.        ],\n",
       "       [0.        , 0.        ],\n",
       "       [0.        , 0.        ],\n",
       "       [0.        , 0.8724654 ],\n",
       "       [0.        , 0.        ],\n",
       "       [0.        , 0.        ],\n",
       "       [0.        , 0.        ],\n",
       "       [0.        , 0.87094355],\n",
       "       [0.        , 0.8147011 ],\n",
       "       [0.        , 0.        ],\n",
       "       [0.        , 0.83463657],\n",
       "       [0.        , 0.6471424 ],\n",
       "       [0.        , 0.        ],\n",
       "       [0.        , 0.89275146],\n",
       "       [0.        , 0.82640135],\n",
       "       [0.        , 0.9198427 ],\n",
       "       [0.        , 0.7809218 ],\n",
       "       [0.        , 0.        ],\n",
       "       [0.        , 0.9941063 ],\n",
       "       [0.        , 0.77983177],\n",
       "       [0.        , 0.        ],\n",
       "       [0.        , 0.7950654 ],\n",
       "       [0.        , 0.7740902 ],\n",
       "       [0.        , 0.        ],\n",
       "       [0.        , 0.        ],\n",
       "       [0.        , 0.        ],\n",
       "       [0.        , 0.        ],\n",
       "       [0.        , 0.        ],\n",
       "       [0.        , 0.9062505 ],\n",
       "       [0.        , 0.77638423],\n",
       "       [0.        , 0.784629  ],\n",
       "       [0.        , 1.0136808 ],\n",
       "       [0.        , 0.72654426],\n",
       "       [0.        , 0.        ],\n",
       "       [0.        , 0.        ],\n",
       "       [0.        , 0.8073114 ],\n",
       "       [0.        , 0.6676439 ],\n",
       "       [0.        , 0.        ],\n",
       "       [0.        , 0.8232467 ],\n",
       "       [0.        , 0.        ],\n",
       "       [0.        , 0.        ],\n",
       "       [0.        , 0.7606175 ],\n",
       "       [0.        , 0.77741647],\n",
       "       [0.        , 0.8313699 ],\n",
       "       [0.        , 0.        ],\n",
       "       [0.        , 0.        ],\n",
       "       [0.        , 0.        ],\n",
       "       [0.        , 0.        ],\n",
       "       [0.        , 0.        ],\n",
       "       [0.        , 0.        ],\n",
       "       [0.        , 0.84241474],\n",
       "       [0.        , 0.94734263],\n",
       "       [0.        , 0.        ],\n",
       "       [0.        , 0.        ],\n",
       "       [0.        , 0.        ],\n",
       "       [0.        , 0.        ],\n",
       "       [0.        , 0.        ],\n",
       "       [0.        , 0.        ],\n",
       "       [0.        , 0.        ],\n",
       "       [0.        , 0.7845992 ],\n",
       "       [0.        , 0.8288388 ],\n",
       "       [0.        , 0.72942877],\n",
       "       [0.        , 0.81065774],\n",
       "       [0.        , 0.        ],\n",
       "       [0.        , 0.        ],\n",
       "       [0.        , 0.        ],\n",
       "       [0.        , 0.        ],\n",
       "       [0.        , 0.        ],\n",
       "       [0.        , 0.8237591 ],\n",
       "       [0.        , 0.921888  ],\n",
       "       [0.        , 0.        ],\n",
       "       [0.        , 0.        ],\n",
       "       [0.        , 0.        ],\n",
       "       [0.        , 0.        ],\n",
       "       [0.        , 0.        ],\n",
       "       [0.        , 0.        ],\n",
       "       [0.        , 0.81741416],\n",
       "       [0.        , 0.8811426 ],\n",
       "       [0.        , 0.        ],\n",
       "       [0.        , 0.        ],\n",
       "       [0.        , 0.78635216],\n",
       "       [0.        , 0.6546041 ],\n",
       "       [0.        , 0.        ],\n",
       "       [0.        , 0.        ],\n",
       "       [0.        , 0.76398075],\n",
       "       [0.        , 0.        ],\n",
       "       [0.        , 0.8559693 ],\n",
       "       [0.        , 0.935655  ],\n",
       "       [0.        , 0.        ],\n",
       "       [0.        , 0.88735425],\n",
       "       [0.        , 1.0060171 ],\n",
       "       [0.        , 0.7430886 ],\n",
       "       [0.        , 0.        ],\n",
       "       [0.        , 0.72794914],\n",
       "       [0.        , 0.        ],\n",
       "       [0.        , 0.        ],\n",
       "       [0.        , 0.7403133 ],\n",
       "       [0.        , 0.99014306],\n",
       "       [0.        , 0.8930925 ],\n",
       "       [0.        , 0.        ],\n",
       "       [0.        , 0.7596351 ],\n",
       "       [0.        , 0.        ],\n",
       "       [0.        , 0.        ],\n",
       "       [0.        , 1.0059886 ],\n",
       "       [0.        , 0.83690023],\n",
       "       [0.        , 0.8084824 ],\n",
       "       [0.        , 0.8531567 ],\n",
       "       [0.        , 0.        ],\n",
       "       [0.        , 0.6995367 ],\n",
       "       [0.        , 0.88059723],\n",
       "       [0.        , 0.        ],\n",
       "       [0.        , 0.7949871 ],\n",
       "       [0.        , 0.        ],\n",
       "       [0.        , 0.        ],\n",
       "       [0.        , 0.8700148 ],\n",
       "       [0.        , 0.        ],\n",
       "       [0.        , 0.6950425 ],\n",
       "       [0.        , 0.        ],\n",
       "       [0.        , 0.        ],\n",
       "       [0.        , 0.7866254 ],\n",
       "       [0.        , 0.        ],\n",
       "       [0.        , 0.90347195],\n",
       "       [0.        , 0.        ],\n",
       "       [0.        , 0.        ],\n",
       "       [0.        , 0.        ],\n",
       "       [0.        , 0.        ],\n",
       "       [0.        , 0.85161126],\n",
       "       [0.        , 0.86741006],\n",
       "       [0.        , 0.        ],\n",
       "       [0.        , 0.8341224 ],\n",
       "       [0.        , 0.        ],\n",
       "       [0.        , 0.95300674],\n",
       "       [0.        , 0.82195544],\n",
       "       [0.        , 0.        ],\n",
       "       [0.        , 0.62655497],\n",
       "       [0.        , 0.63410246],\n",
       "       [0.        , 0.75517404],\n",
       "       [0.        , 0.        ],\n",
       "       [0.        , 0.8691479 ],\n",
       "       [0.        , 0.63197935],\n",
       "       [0.        , 0.        ],\n",
       "       [0.        , 0.        ],\n",
       "       [0.        , 0.        ],\n",
       "       [0.        , 0.        ],\n",
       "       [0.        , 0.703006  ],\n",
       "       [0.        , 0.        ],\n",
       "       [0.        , 0.        ],\n",
       "       [0.        , 0.        ],\n",
       "       [0.        , 0.8269087 ],\n",
       "       [0.        , 0.7181915 ],\n",
       "       [0.        , 0.8680744 ],\n",
       "       [0.        , 0.7214937 ],\n",
       "       [0.        , 0.6621171 ],\n",
       "       [0.        , 0.        ],\n",
       "       [0.        , 0.        ],\n",
       "       [0.        , 0.8756168 ],\n",
       "       [0.        , 0.88350844],\n",
       "       [0.        , 0.        ],\n",
       "       [0.        , 0.        ],\n",
       "       [0.        , 0.73841524],\n",
       "       [0.        , 0.92174864],\n",
       "       [0.        , 0.97633445],\n",
       "       [0.        , 0.        ],\n",
       "       [0.        , 1.0277137 ],\n",
       "       [0.        , 0.63603663],\n",
       "       [0.        , 0.        ],\n",
       "       [0.        , 0.70012033],\n",
       "       [0.        , 0.        ],\n",
       "       [0.        , 0.94305074],\n",
       "       [0.        , 0.880836  ],\n",
       "       [0.        , 0.8303672 ],\n",
       "       [0.        , 0.        ],\n",
       "       [0.        , 0.90659153],\n",
       "       [0.        , 0.6248617 ],\n",
       "       [0.        , 0.80171573],\n",
       "       [0.        , 0.        ],\n",
       "       [0.        , 0.        ],\n",
       "       [0.        , 0.81434834],\n",
       "       [0.        , 0.8733163 ],\n",
       "       [0.        , 0.        ],\n",
       "       [0.        , 0.        ],\n",
       "       [0.        , 0.9510038 ],\n",
       "       [0.        , 0.89541423],\n",
       "       [0.        , 0.7601588 ],\n",
       "       [0.        , 0.5936984 ],\n",
       "       [0.        , 0.8134004 ],\n",
       "       [0.        , 0.        ],\n",
       "       [0.        , 0.        ],\n",
       "       [0.        , 0.7006483 ],\n",
       "       [0.        , 0.7863089 ],\n",
       "       [0.        , 0.6867007 ],\n",
       "       [0.        , 0.        ],\n",
       "       [0.        , 0.        ],\n",
       "       [0.        , 0.9100853 ],\n",
       "       [0.        , 0.00464511],\n",
       "       [0.        , 0.        ],\n",
       "       [0.        , 0.        ],\n",
       "       [0.        , 0.        ],\n",
       "       [0.        , 0.89719534],\n",
       "       [0.        , 0.        ],\n",
       "       [0.        , 0.        ],\n",
       "       [0.        , 0.        ],\n",
       "       [0.        , 0.76524246],\n",
       "       [0.        , 0.83855414],\n",
       "       [0.        , 0.        ],\n",
       "       [0.        , 0.8392409 ],\n",
       "       [0.        , 0.        ],\n",
       "       [0.        , 0.        ],\n",
       "       [0.        , 0.        ],\n",
       "       [0.        , 0.9044744 ],\n",
       "       [0.        , 0.7037748 ],\n",
       "       [0.        , 0.67929184],\n",
       "       [0.        , 0.82826495],\n",
       "       [0.        , 0.        ],\n",
       "       [0.        , 0.83421135],\n",
       "       [0.        , 0.        ],\n",
       "       [0.        , 0.        ],\n",
       "       [0.        , 0.6399785 ],\n",
       "       [0.        , 0.771474  ],\n",
       "       [0.        , 0.        ],\n",
       "       [0.        , 0.        ],\n",
       "       [0.        , 0.7591605 ],\n",
       "       [0.        , 0.        ],\n",
       "       [0.        , 0.        ],\n",
       "       [0.        , 0.8948628 ],\n",
       "       [0.        , 0.        ],\n",
       "       [0.        , 0.72326076],\n",
       "       [0.        , 0.89442277],\n",
       "       [0.        , 0.        ],\n",
       "       [0.        , 0.        ],\n",
       "       [0.        , 0.        ],\n",
       "       [0.        , 0.84104   ]], dtype=float32)"
      ]
     },
     "execution_count": 25,
     "metadata": {},
     "output_type": "execute_result"
    }
   ],
   "source": [
    "encoded_2dim"
   ]
  },
  {
   "cell_type": "code",
   "execution_count": 26,
   "metadata": {},
   "outputs": [
    {
     "data": {
      "text/plain": [
       "(300, 2)"
      ]
     },
     "execution_count": 26,
     "metadata": {},
     "output_type": "execute_result"
    }
   ],
   "source": [
    "encoded_2dim.shape"
   ]
  },
  {
   "cell_type": "code",
   "execution_count": 27,
   "metadata": {},
   "outputs": [
    {
     "data": {
      "text/plain": [
       "<matplotlib.collections.PathCollection at 0x2287f558438>"
      ]
     },
     "execution_count": 27,
     "metadata": {},
     "output_type": "execute_result"
    },
    {
     "data": {
      "image/png": "[encoded data removed]",
      "text/plain": [
       "<Figure size 432x288 with 1 Axes>"
      ]
     },
     "metadata": {
      "needs_background": "light"
     },
     "output_type": "display_data"
    }
   ],
   "source": [
    "plt.scatter(encoded_2dim[:,0],encoded_2dim[:,1],c=y)"
   ]
  },
  {
   "cell_type": "code",
   "execution_count": 28,
   "metadata": {},
   "outputs": [],
   "source": []
  }
 ],
 "metadata": {
  "kernelspec": {
   "display_name": "Python 3",
   "language": "python",
   "name": "python3"
  },
  "language_info": {
   "codemirror_mode": {
    "name": "ipython",
    "version": 3
   },
   "file_extension": ".py",
   "mimetype": "text/x-python",
   "name": "python",
   "nbconvert_exporter": "python",
   "pygments_lexer": "ipython3",
   "version": "3.6.13"
  }
 },
 "nbformat": 4,
 "nbformat_minor": 2
}
