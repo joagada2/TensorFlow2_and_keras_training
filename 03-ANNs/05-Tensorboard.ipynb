{
 "cells": [
  {
   "cell_type": "markdown",
   "metadata": {},
   "source": [
    "<a href=\"https://www.pieriandata.com\"><img src=\"../Pierian_Data_Logo.PNG\"></a>\n",
    "<strong><center>Copyright by Pierian Data Inc.</center></strong> \n",
    "<strong><center>Created by Jose Marcial Portilla.</center></strong>"
   ]
  },
  {
   "cell_type": "markdown",
   "metadata": {},
   "source": [
    "# Tensorboard\n",
    "\n",
    "---\n",
    "---\n",
    "\n",
    "**NOTE: You must watch the corresponding video to understand this lecture. This notebook can't serve as a full guide. Please watch the video BEFORE posting questions to the QA forum.**\n",
    "\n",
    "---\n",
    "---\n",
    "\n",
    "Let's explore the built in data visualization capabilities that come with Tensorboard.\n",
    "\n",
    "Full official tutorial available here: https://www.tensorflow.org/tensorboard/get_started\n",
    "\n",
    "## Data"
   ]
  },
  {
   "cell_type": "code",
   "execution_count": 16,
   "metadata": {},
   "outputs": [],
   "source": [
    "import pandas as pd\n",
    "import numpy as np"
   ]
  },
  {
   "cell_type": "code",
   "execution_count": 17,
   "metadata": {},
   "outputs": [],
   "source": [
    "df = pd.read_csv('../DATA/cancer_classification.csv')"
   ]
  },
  {
   "cell_type": "markdown",
   "metadata": {},
   "source": [
    "### Train Test Split"
   ]
  },
  {
   "cell_type": "code",
   "execution_count": 18,
   "metadata": {},
   "outputs": [],
   "source": [
    "X = df.drop('benign_0__mal_1',axis=1).values\n",
    "y = df['benign_0__mal_1'].values"
   ]
  },
  {
   "cell_type": "code",
   "execution_count": 19,
   "metadata": {},
   "outputs": [],
   "source": [
    "from sklearn.model_selection import train_test_split"
   ]
  },
  {
   "cell_type": "code",
   "execution_count": 20,
   "metadata": {},
   "outputs": [],
   "source": [
    "X_train, X_test, y_train, y_test = train_test_split(X,y,test_size=0.25,random_state=101)"
   ]
  },
  {
   "cell_type": "markdown",
   "metadata": {},
   "source": [
    "\n",
    "### Scaling Data"
   ]
  },
  {
   "cell_type": "code",
   "execution_count": 21,
   "metadata": {},
   "outputs": [],
   "source": [
    "from sklearn.preprocessing import MinMaxScaler"
   ]
  },
  {
   "cell_type": "code",
   "execution_count": 22,
   "metadata": {},
   "outputs": [],
   "source": [
    "scaler = MinMaxScaler()"
   ]
  },
  {
   "cell_type": "code",
   "execution_count": 23,
   "metadata": {},
   "outputs": [
    {
     "data": {
      "text/plain": [
       "MinMaxScaler()"
      ]
     },
     "execution_count": 23,
     "metadata": {},
     "output_type": "execute_result"
    }
   ],
   "source": [
    "scaler.fit(X_train)"
   ]
  },
  {
   "cell_type": "code",
   "execution_count": 9,
   "metadata": {},
   "outputs": [],
   "source": [
    "X_train = scaler.transform(X_train)\n",
    "X_test = scaler.transform(X_test)"
   ]
  },
  {
   "cell_type": "markdown",
   "metadata": {},
   "source": [
    "## Creating the Model"
   ]
  },
  {
   "cell_type": "code",
   "execution_count": 24,
   "metadata": {},
   "outputs": [],
   "source": [
    "import tensorflow as tf\n",
    "from tensorflow.keras.models import Sequential\n",
    "from tensorflow.keras.layers import Dense, Activation,Dropout"
   ]
  },
  {
   "cell_type": "code",
   "execution_count": 25,
   "metadata": {},
   "outputs": [],
   "source": [
    "#callbacks are functions or blocks of code which are executed during a specific instant while training a \n",
    "#Deep Learning Model.\n",
    "from tensorflow.keras.callbacks import EarlyStopping,TensorBoard"
   ]
  },
  {
   "cell_type": "code",
   "execution_count": 26,
   "metadata": {},
   "outputs": [],
   "source": [
    "early_stop = EarlyStopping(monitor='val_loss', mode='min', verbose=1, patience=25)"
   ]
  },
  {
   "cell_type": "code",
   "execution_count": 27,
   "metadata": {},
   "outputs": [
    {
     "data": {
      "text/plain": [
       "'C:\\\\Users\\\\HP 1O3O G2\\\\TF_2_Notebooks_and_Data\\\\03-ANNs'"
      ]
     },
     "execution_count": 27,
     "metadata": {},
     "output_type": "execute_result"
    }
   ],
   "source": [
    "pwd"
   ]
  },
  {
   "cell_type": "markdown",
   "metadata": {},
   "source": [
    "## Creating the Tensorboard Callback\n",
    "\n",
    "TensorBoard is a visualization tool provided with TensorFlow.\n",
    "\n",
    "This callback logs events for TensorBoard, including:\n",
    "* Metrics summary plots\n",
    "* Training graph visualization\n",
    "* Activation histograms\n",
    "* Sampled profiling\n",
    "\n",
    "If you have installed TensorFlow with pip, you should be able\n",
    "to launch TensorBoard from the command line:\n",
    "\n",
    "```sh\n",
    "tensorboard --logdir=path_to_your_logs\n",
    "```\n",
    "\n",
    "You can find more information about TensorBoard\n",
    "[here](https://www.tensorflow.org/tensorboard/).\n",
    "\n",
    "    Arguments:\n",
    "        log_dir: the path of the directory where to save the log files to be\n",
    "          parsed by TensorBoard.\n",
    "        histogram_freq: frequency (in epochs) at which to compute activation and\n",
    "          weight histograms for the layers of the model. If set to 0, histograms\n",
    "          won't be computed. Validation data (or split) must be specified for\n",
    "          histogram visualizations.\n",
    "        write_graph: whether to visualize the graph in TensorBoard. The log file\n",
    "          can become quite large when write_graph is set to True.\n",
    "        write_images: whether to write model weights to visualize as image in\n",
    "          TensorBoard.\n",
    "        update_freq: `'batch'` or `'epoch'` or integer. When using `'batch'`,\n",
    "          writes the losses and metrics to TensorBoard after each batch. The same\n",
    "          applies for `'epoch'`. If using an integer, let's say `1000`, the\n",
    "          callback will write the metrics and losses to TensorBoard every 1000\n",
    "          samples. Note that writing too frequently to TensorBoard can slow down\n",
    "          your training.\n",
    "        profile_batch: Profile the batch to sample compute characteristics. By\n",
    "          default, it will profile the second batch. Set profile_batch=0 to\n",
    "          disable profiling. Must run in TensorFlow eager mode.\n",
    "        embeddings_freq: frequency (in epochs) at which embedding layers will\n",
    "          be visualized. If set to 0, embeddings won't be visualized.\n",
    "       "
   ]
  },
  {
   "cell_type": "code",
   "execution_count": 28,
   "metadata": {},
   "outputs": [],
   "source": [
    "from datetime import datetime"
   ]
  },
  {
   "cell_type": "code",
   "execution_count": 29,
   "metadata": {},
   "outputs": [
    {
     "data": {
      "text/plain": [
       "'2022-11-28--0601'"
      ]
     },
     "execution_count": 29,
     "metadata": {},
     "output_type": "execute_result"
    }
   ],
   "source": [
    "datetime.now().strftime(\"%Y-%m-%d--%H%M\")"
   ]
  },
  {
   "cell_type": "code",
   "execution_count": 30,
   "metadata": {},
   "outputs": [],
   "source": [
    "# WINDOWS: Use \"logs\\\\fit\"\n",
    "# MACOS/LINUX: Use \"logs\\fit\"\n",
    "\n",
    "log_directory = 'logs\\\\fit'\n",
    "\n",
    "# OPTIONAL: ADD A TIMESTAMP FOR UNIQUE FOLDER\n",
    "# timestamp = datetime.now().strftime(\"%Y-%m-%d--%H%M\")\n",
    "# log_directory = log_directory + '\\\\' + timestamp\n",
    "\n",
    "\n",
    "board = TensorBoard(log_dir=log_directory,histogram_freq=1,\n",
    "    write_graph=True,\n",
    "    write_images=True,\n",
    "    update_freq='epoch',\n",
    "    profile_batch=2,\n",
    "    embeddings_freq=1)"
   ]
  },
  {
   "cell_type": "markdown",
   "metadata": {},
   "source": [
    "Now create the model layers:"
   ]
  },
  {
   "cell_type": "code",
   "execution_count": 32,
   "metadata": {},
   "outputs": [],
   "source": [
    "model = Sequential()\n",
    "model.add(Dense(units=30,activation='relu'))\n",
    "model.add(Dropout(0.5))\n",
    "model.add(Dense(units=15,activation='relu'))\n",
    "model.add(Dropout(0.5))\n",
    "model.add(Dense(units=1,activation='sigmoid'))\n",
    "model.compile(loss='binary_crossentropy', optimizer='adam')"
   ]
  },
  {
   "cell_type": "markdown",
   "metadata": {},
   "source": [
    "## Train the Model"
   ]
  },
  {
   "cell_type": "code",
   "execution_count": 33,
   "metadata": {},
   "outputs": [
    {
     "name": "stdout",
     "output_type": "stream",
     "text": [
      "Epoch 1/600\n",
      "14/14 [==============================] - 1s 19ms/step - loss: 177.8997 - val_loss: 89.9990\n",
      "Epoch 2/600\n",
      "14/14 [==============================] - 0s 3ms/step - loss: 138.1172 - val_loss: 31.9486\n",
      "Epoch 3/600\n",
      "14/14 [==============================] - 0s 3ms/step - loss: 112.2069 - val_loss: 1.3010\n",
      "Epoch 4/600\n",
      "14/14 [==============================] - 0s 4ms/step - loss: 99.8394 - val_loss: 12.4230\n",
      "Epoch 5/600\n",
      "14/14 [==============================] - 0s 4ms/step - loss: 79.1212 - val_loss: 19.5216\n",
      "Epoch 6/600\n",
      "14/14 [==============================] - 0s 3ms/step - loss: 70.7245 - val_loss: 17.4912\n",
      "Epoch 7/600\n",
      "14/14 [==============================] - 0s 4ms/step - loss: 63.6055 - val_loss: 14.5530\n",
      "Epoch 8/600\n",
      "14/14 [==============================] - 0s 4ms/step - loss: 46.9022 - val_loss: 13.5818\n",
      "Epoch 9/600\n",
      "14/14 [==============================] - 0s 3ms/step - loss: 54.5495 - val_loss: 10.3272\n",
      "Epoch 10/600\n",
      "14/14 [==============================] - 0s 3ms/step - loss: 39.0464 - val_loss: 6.3902\n",
      "Epoch 11/600\n",
      "14/14 [==============================] - 0s 3ms/step - loss: 26.0965 - val_loss: 3.5128\n",
      "Epoch 12/600\n",
      "14/14 [==============================] - 0s 3ms/step - loss: 33.2306 - val_loss: 2.0823\n",
      "Epoch 13/600\n",
      "14/14 [==============================] - 0s 3ms/step - loss: 19.4221 - val_loss: 1.6746\n",
      "Epoch 14/600\n",
      "14/14 [==============================] - 0s 3ms/step - loss: 21.0263 - val_loss: 1.4283\n",
      "Epoch 15/600\n",
      "14/14 [==============================] - 0s 6ms/step - loss: 15.0906 - val_loss: 1.2293\n",
      "Epoch 16/600\n",
      "14/14 [==============================] - 0s 3ms/step - loss: 16.3487 - val_loss: 0.7720\n",
      "Epoch 17/600\n",
      "14/14 [==============================] - 0s 4ms/step - loss: 17.1750 - val_loss: 0.5469\n",
      "Epoch 18/600\n",
      "14/14 [==============================] - 0s 5ms/step - loss: 13.8650 - val_loss: 0.5801\n",
      "Epoch 19/600\n",
      "14/14 [==============================] - 0s 4ms/step - loss: 11.3387 - val_loss: 0.6308\n",
      "Epoch 20/600\n",
      "14/14 [==============================] - 0s 3ms/step - loss: 8.5367 - val_loss: 0.6624\n",
      "Epoch 21/600\n",
      "14/14 [==============================] - 0s 4ms/step - loss: 8.9105 - val_loss: 0.6642\n",
      "Epoch 22/600\n",
      "14/14 [==============================] - 0s 3ms/step - loss: 6.5447 - val_loss: 0.6706\n",
      "Epoch 23/600\n",
      "14/14 [==============================] - 0s 4ms/step - loss: 6.7904 - val_loss: 0.6730\n",
      "Epoch 24/600\n",
      "14/14 [==============================] - 0s 3ms/step - loss: 6.3553 - val_loss: 0.6733\n",
      "Epoch 25/600\n",
      "14/14 [==============================] - 0s 4ms/step - loss: 5.7036 - val_loss: 0.6727\n",
      "Epoch 26/600\n",
      "14/14 [==============================] - 0s 3ms/step - loss: 6.6773 - val_loss: 0.6722\n",
      "Epoch 27/600\n",
      "14/14 [==============================] - 0s 4ms/step - loss: 4.6830 - val_loss: 0.6717\n",
      "Epoch 28/600\n",
      "14/14 [==============================] - 0s 4ms/step - loss: 5.0991 - val_loss: 0.6712\n",
      "Epoch 29/600\n",
      "14/14 [==============================] - 0s 4ms/step - loss: 3.5307 - val_loss: 0.6707\n",
      "Epoch 30/600\n",
      "14/14 [==============================] - 0s 3ms/step - loss: 3.2520 - val_loss: 0.6704\n",
      "Epoch 31/600\n",
      "14/14 [==============================] - 0s 3ms/step - loss: 3.1010 - val_loss: 0.6700\n",
      "Epoch 32/600\n",
      "14/14 [==============================] - 0s 3ms/step - loss: 2.4348 - val_loss: 0.6696\n",
      "Epoch 33/600\n",
      "14/14 [==============================] - 0s 4ms/step - loss: 3.3808 - val_loss: 0.6693\n",
      "Epoch 34/600\n",
      "14/14 [==============================] - 0s 4ms/step - loss: 1.8686 - val_loss: 0.6689\n",
      "Epoch 35/600\n",
      "14/14 [==============================] - 0s 4ms/step - loss: 2.4094 - val_loss: 0.6685\n",
      "Epoch 36/600\n",
      "14/14 [==============================] - 0s 5ms/step - loss: 1.6934 - val_loss: 0.6683\n",
      "Epoch 37/600\n",
      "14/14 [==============================] - 0s 5ms/step - loss: 2.3262 - val_loss: 0.6686\n",
      "Epoch 38/600\n",
      "14/14 [==============================] - 0s 5ms/step - loss: 1.9156 - val_loss: 0.6678\n",
      "Epoch 39/600\n",
      "14/14 [==============================] - 0s 5ms/step - loss: 1.8759 - val_loss: 0.6657\n",
      "Epoch 40/600\n",
      "14/14 [==============================] - 0s 5ms/step - loss: 1.7596 - val_loss: 0.6637\n",
      "Epoch 41/600\n",
      "14/14 [==============================] - 0s 6ms/step - loss: 1.2337 - val_loss: 0.6638\n",
      "Epoch 42/600\n",
      "14/14 [==============================] - 0s 5ms/step - loss: 1.6343 - val_loss: 0.6634\n",
      "Epoch 00042: early stopping\n"
     ]
    },
    {
     "data": {
      "text/plain": [
       "<keras.callbacks.History at 0x247c17399b0>"
      ]
     },
     "execution_count": 33,
     "metadata": {},
     "output_type": "execute_result"
    }
   ],
   "source": [
    "model.fit(x=X_train, \n",
    "          y=y_train, \n",
    "          epochs=600,\n",
    "          validation_data=(X_test, y_test), verbose=1,\n",
    "          callbacks=[early_stop,board]\n",
    "          )"
   ]
  },
  {
   "cell_type": "markdown",
   "metadata": {},
   "source": [
    "# Running Tensorboard\n"
   ]
  },
  {
   "cell_type": "markdown",
   "metadata": {},
   "source": [
    "## Running through the Command Line\n",
    "\n",
    "**Watch video to see how to run Tensorboard through a command line call.**"
   ]
  },
  {
   "cell_type": "markdown",
   "metadata": {},
   "source": [
    "Tensorboard will run locally in your browser at [http://localhost:6006/](http://localhost:6006/)\n"
   ]
  },
  {
   "cell_type": "code",
   "execution_count": 34,
   "metadata": {},
   "outputs": [
    {
     "name": "stdout",
     "output_type": "stream",
     "text": [
      "logs\\fit\n"
     ]
    }
   ],
   "source": [
    "print(log_directory)"
   ]
  },
  {
   "cell_type": "code",
   "execution_count": 35,
   "metadata": {},
   "outputs": [
    {
     "data": {
      "text/plain": [
       "'C:\\\\Users\\\\HP 1O3O G2\\\\TF_2_Notebooks_and_Data\\\\03-ANNs'"
      ]
     },
     "execution_count": 35,
     "metadata": {},
     "output_type": "execute_result"
    }
   ],
   "source": [
    "pwd"
   ]
  },
  {
   "cell_type": "markdown",
   "metadata": {},
   "source": [
    "### Use cd at your command line to change directory to the file path reported back by pwd or your current .py file location.\n",
    "### Then run this code at your command line or terminal"
   ]
  },
  {
   "cell_type": "code",
   "execution_count": null,
   "metadata": {},
   "outputs": [],
   "source": [
    "tensorboard --logdir logs\\fit "
   ]
  }
 ],
 "metadata": {
  "kernelspec": {
   "display_name": "Python 3",
   "language": "python",
   "name": "python3"
  },
  "language_info": {
   "codemirror_mode": {
    "name": "ipython",
    "version": 3
   },
   "file_extension": ".py",
   "mimetype": "text/x-python",
   "name": "python",
   "nbconvert_exporter": "python",
   "pygments_lexer": "ipython3",
   "version": "3.6.13"
  }
 },
 "nbformat": 4,
 "nbformat_minor": 2
}
