{
 "cells": [
  {
   "cell_type": "markdown",
   "metadata": {},
   "source": [
    "___\n",
    "\n",
    "<a href='http://www.pieriandata.com'><img src='../Pierian_Data_Logo.png'/></a>\n",
    "___\n",
    "<center><em>Copyright Pierian Data</em></center>\n",
    "<center><em>For more information, visit us at <a href='http://www.pieriandata.com'>www.pieriandata.com</a></em></center>\n",
    "\n",
    "# GANs - Generative Adverserial Networks"
   ]
  },
  {
   "cell_type": "code",
   "execution_count": 16,
   "metadata": {},
   "outputs": [],
   "source": [
    "import pandas as pd\n",
    "import numpy as np\n",
    "import matplotlib.pyplot as plt"
   ]
  },
  {
   "cell_type": "code",
   "execution_count": 17,
   "metadata": {},
   "outputs": [],
   "source": [
    "from tensorflow.keras.datasets import mnist"
   ]
  },
  {
   "cell_type": "code",
   "execution_count": 18,
   "metadata": {},
   "outputs": [],
   "source": [
    "(X_train, y_train), (X_test, y_test) = mnist.load_data()"
   ]
  },
  {
   "cell_type": "code",
   "execution_count": 19,
   "metadata": {},
   "outputs": [
    {
     "data": {
      "text/plain": [
       "<matplotlib.image.AxesImage at 0x2803c55f0b8>"
      ]
     },
     "execution_count": 19,
     "metadata": {},
     "output_type": "execute_result"
    },
    {
     "data": {
      "image/png": "[encoded data removed]",
      "text/plain": [
       "<Figure size 432x288 with 1 Axes>"
      ]
     },
     "metadata": {
      "needs_background": "light"
     },
     "output_type": "display_data"
    }
   ],
   "source": [
    "plt.imshow(X_train[0])"
   ]
  },
  {
   "cell_type": "code",
   "execution_count": 20,
   "metadata": {},
   "outputs": [
    {
     "data": {
      "text/plain": [
       "array([5, 0, 4, ..., 5, 6, 8], dtype=uint8)"
      ]
     },
     "execution_count": 20,
     "metadata": {},
     "output_type": "execute_result"
    }
   ],
   "source": [
    "y_train"
   ]
  },
  {
   "cell_type": "markdown",
   "metadata": {},
   "source": [
    "## Reshape and Rescale Images for DCGAN\n",
    "\n",
    "Generator will use tanh activation function for the last layer, so we want to reshape X_train to be within -1 to 1 limits."
   ]
  },
  {
   "cell_type": "code",
   "execution_count": 21,
   "metadata": {},
   "outputs": [],
   "source": [
    "X_train = X_train/255"
   ]
  },
  {
   "cell_type": "code",
   "execution_count": 22,
   "metadata": {},
   "outputs": [],
   "source": [
    "#since we are using tanh activation function which ranges from -1 to 1, we scale and reshape images so that values range \n",
    "#from -1 to 1\n",
    "X_train = X_train.reshape(-1, 28, 28, 1) * 2. - 1."
   ]
  },
  {
   "cell_type": "code",
   "execution_count": 23,
   "metadata": {},
   "outputs": [
    {
     "data": {
      "text/plain": [
       "-1.0"
      ]
     },
     "execution_count": 23,
     "metadata": {},
     "output_type": "execute_result"
    }
   ],
   "source": [
    "X_train.min()"
   ]
  },
  {
   "cell_type": "code",
   "execution_count": 24,
   "metadata": {},
   "outputs": [
    {
     "data": {
      "text/plain": [
       "1.0"
      ]
     },
     "execution_count": 24,
     "metadata": {},
     "output_type": "execute_result"
    }
   ],
   "source": [
    "X_train.max()"
   ]
  },
  {
   "cell_type": "markdown",
   "metadata": {},
   "source": [
    "## Filtering out the Data for Faster Training on Smaller Dataset"
   ]
  },
  {
   "cell_type": "code",
   "execution_count": 28,
   "metadata": {},
   "outputs": [],
   "source": [
    "only_zeros = X_train[y_train==0]"
   ]
  },
  {
   "cell_type": "code",
   "execution_count": 29,
   "metadata": {},
   "outputs": [
    {
     "data": {
      "text/plain": [
       "(5923, 28, 28, 1)"
      ]
     },
     "execution_count": 29,
     "metadata": {},
     "output_type": "execute_result"
    }
   ],
   "source": [
    "only_zeros.shape"
   ]
  },
  {
   "cell_type": "code",
   "execution_count": 30,
   "metadata": {},
   "outputs": [],
   "source": [
    "import tensorflow as tf\n",
    "from tensorflow.keras.layers import Dense,Reshape,Dropout,LeakyReLU,Flatten,BatchNormalization,Conv2D,Conv2DTranspose\n",
    "from tensorflow.keras.models import Sequential"
   ]
  },
  {
   "cell_type": "code",
   "execution_count": 31,
   "metadata": {},
   "outputs": [],
   "source": [
    "np.random.seed(42)\n",
    "tf.random.set_seed(42)\n",
    "\n",
    "codings_size = 100"
   ]
  },
  {
   "cell_type": "code",
   "execution_count": 32,
   "metadata": {},
   "outputs": [],
   "source": [
    "generator = Sequential()\n",
    "generator.add(Dense(7 * 7 * 128, input_shape=[codings_size]))\n",
    "generator.add(Reshape([7, 7, 128]))\n",
    "generator.add(BatchNormalization())\n",
    "generator.add(Conv2DTranspose(64, kernel_size=5, strides=2, padding=\"same\",\n",
    "                                 activation=\"relu\"))\n",
    "generator.add(BatchNormalization())\n",
    "generator.add(Conv2DTranspose(1, kernel_size=5, strides=2, padding=\"same\",\n",
    "                                 activation=\"tanh\"))\n"
   ]
  },
  {
   "cell_type": "code",
   "execution_count": 35,
   "metadata": {},
   "outputs": [],
   "source": [
    "discriminator = Sequential()\n",
    "discriminator.add(Conv2D(64, kernel_size=5, strides=2, padding=\"same\",\n",
    "                        activation=LeakyReLU(0.3),\n",
    "                        input_shape=[28, 28, 1]))\n",
    "discriminator.add(Dropout(0.5))\n",
    "discriminator.add(Conv2D(128, kernel_size=5, strides=2, padding=\"same\",\n",
    "                        activation=LeakyReLU(0.3)))\n",
    "discriminator.add(Dropout(0.5))\n",
    "discriminator.add(Flatten())\n",
    "discriminator.add(Dense(1, activation=\"sigmoid\"))"
   ]
  },
  {
   "cell_type": "code",
   "execution_count": 40,
   "metadata": {},
   "outputs": [],
   "source": [
    "GAN = Sequential([generator, discriminator])"
   ]
  },
  {
   "cell_type": "code",
   "execution_count": 41,
   "metadata": {},
   "outputs": [],
   "source": [
    "discriminator.compile(loss=\"binary_crossentropy\", optimizer=\"adam\")\n",
    "discriminator.trainable = False"
   ]
  },
  {
   "cell_type": "code",
   "execution_count": 42,
   "metadata": {},
   "outputs": [],
   "source": [
    "GAN.compile(loss=\"binary_crossentropy\", optimizer=\"adam\")"
   ]
  },
  {
   "cell_type": "code",
   "execution_count": 43,
   "metadata": {},
   "outputs": [
    {
     "data": {
      "text/plain": [
       "[<keras.engine.sequential.Sequential at 0x2803c598a20>,\n",
       " <keras.engine.sequential.Sequential at 0x280398c6278>]"
      ]
     },
     "execution_count": 43,
     "metadata": {},
     "output_type": "execute_result"
    }
   ],
   "source": [
    "GAN.layers"
   ]
  },
  {
   "cell_type": "code",
   "execution_count": 44,
   "metadata": {},
   "outputs": [
    {
     "name": "stdout",
     "output_type": "stream",
     "text": [
      "Model: \"sequential_3\"\n",
      "_________________________________________________________________\n",
      "Layer (type)                 Output Shape              Param #   \n",
      "=================================================================\n",
      "sequential (Sequential)      (None, 28, 28, 1)         840705    \n",
      "_________________________________________________________________\n",
      "sequential_1 (Sequential)    (None, 1)                 212865    \n",
      "=================================================================\n",
      "Total params: 1,053,570\n",
      "Trainable params: 840,321\n",
      "Non-trainable params: 213,249\n",
      "_________________________________________________________________\n"
     ]
    }
   ],
   "source": [
    "GAN.summary()"
   ]
  },
  {
   "cell_type": "code",
   "execution_count": 45,
   "metadata": {},
   "outputs": [
    {
     "name": "stdout",
     "output_type": "stream",
     "text": [
      "Model: \"sequential\"\n",
      "_________________________________________________________________\n",
      "Layer (type)                 Output Shape              Param #   \n",
      "=================================================================\n",
      "dense (Dense)                (None, 6272)              633472    \n",
      "_________________________________________________________________\n",
      "reshape (Reshape)            (None, 7, 7, 128)         0         \n",
      "_________________________________________________________________\n",
      "batch_normalization (BatchNo (None, 7, 7, 128)         512       \n",
      "_________________________________________________________________\n",
      "conv2d_transpose (Conv2DTran (None, 14, 14, 64)        204864    \n",
      "_________________________________________________________________\n",
      "batch_normalization_1 (Batch (None, 14, 14, 64)        256       \n",
      "_________________________________________________________________\n",
      "conv2d_transpose_1 (Conv2DTr (None, 28, 28, 1)         1601      \n",
      "=================================================================\n",
      "Total params: 840,705\n",
      "Trainable params: 840,321\n",
      "Non-trainable params: 384\n",
      "_________________________________________________________________\n"
     ]
    }
   ],
   "source": [
    "GAN.layers[0].summary()"
   ]
  },
  {
   "cell_type": "code",
   "execution_count": 46,
   "metadata": {},
   "outputs": [
    {
     "name": "stdout",
     "output_type": "stream",
     "text": [
      "Model: \"sequential_1\"\n",
      "_________________________________________________________________\n",
      "Layer (type)                 Output Shape              Param #   \n",
      "=================================================================\n",
      "conv2d (Conv2D)              (None, 14, 14, 64)        1664      \n",
      "_________________________________________________________________\n",
      "dropout (Dropout)            (None, 14, 14, 64)        0         \n",
      "_________________________________________________________________\n",
      "conv2d_1 (Conv2D)            (None, 7, 7, 128)         204928    \n",
      "_________________________________________________________________\n",
      "dropout_1 (Dropout)          (None, 7, 7, 128)         0         \n",
      "_________________________________________________________________\n",
      "flatten (Flatten)            (None, 6272)              0         \n",
      "_________________________________________________________________\n",
      "dense_1 (Dense)              (None, 1)                 6273      \n",
      "=================================================================\n",
      "Total params: 212,865\n",
      "Trainable params: 0\n",
      "Non-trainable params: 212,865\n",
      "_________________________________________________________________\n"
     ]
    }
   ],
   "source": [
    "GAN.layers[1].summary()"
   ]
  },
  {
   "cell_type": "markdown",
   "metadata": {},
   "source": [
    "### Setting up Training Batches"
   ]
  },
  {
   "cell_type": "code",
   "execution_count": 47,
   "metadata": {},
   "outputs": [],
   "source": [
    "import tensorflow as tf"
   ]
  },
  {
   "cell_type": "code",
   "execution_count": 48,
   "metadata": {},
   "outputs": [],
   "source": [
    "batch_size = 32"
   ]
  },
  {
   "cell_type": "markdown",
   "metadata": {},
   "source": [
    "https://stackoverflow.com/questions/46444018/meaning-of-buffer-size-in-dataset-map-dataset-prefetch-and-dataset-shuffle\n",
    "\n",
    "The buffer_size in Dataset.shuffle() can affect the randomness of your dataset, and hence the order in which elements are produced. "
   ]
  },
  {
   "cell_type": "code",
   "execution_count": 49,
   "metadata": {},
   "outputs": [],
   "source": [
    "# my_data = X_train\n",
    "my_data = only_zeros"
   ]
  },
  {
   "cell_type": "code",
   "execution_count": 50,
   "metadata": {},
   "outputs": [],
   "source": [
    "dataset = tf.data.Dataset.from_tensor_slices(my_data).shuffle(buffer_size=1000)"
   ]
  },
  {
   "cell_type": "code",
   "execution_count": 51,
   "metadata": {},
   "outputs": [
    {
     "data": {
      "text/plain": [
       "tensorflow.python.data.ops.dataset_ops.ShuffleDataset"
      ]
     },
     "execution_count": 51,
     "metadata": {},
     "output_type": "execute_result"
    }
   ],
   "source": [
    "type(dataset)"
   ]
  },
  {
   "cell_type": "code",
   "execution_count": 52,
   "metadata": {},
   "outputs": [],
   "source": [
    "dataset = dataset.batch(batch_size, drop_remainder=True).prefetch(1)"
   ]
  },
  {
   "cell_type": "code",
   "execution_count": 53,
   "metadata": {},
   "outputs": [],
   "source": [
    "epochs = 20"
   ]
  },
  {
   "cell_type": "markdown",
   "metadata": {},
   "source": [
    "**NOTE: The generator never actually sees any real images. It learns by viewing the gradients going back through the discriminator. The better the discrimnator gets through training, the more information the discriminator contains in its gradients, which means the generator can being to make progress in learning how to generate fake images, in our case, fake zeros.**\n",
    "\n",
    "## Training Loop"
   ]
  },
  {
   "cell_type": "code",
   "execution_count": 54,
   "metadata": {},
   "outputs": [
    {
     "name": "stdout",
     "output_type": "stream",
     "text": [
      "Currently on Epoch 1\n",
      "\tCurrently on batch number 20 of 185\n",
      "\tCurrently on batch number 40 of 185\n",
      "\tCurrently on batch number 60 of 185\n",
      "\tCurrently on batch number 80 of 185\n",
      "\tCurrently on batch number 100 of 185\n",
      "\tCurrently on batch number 120 of 185\n",
      "\tCurrently on batch number 140 of 185\n",
      "\tCurrently on batch number 160 of 185\n",
      "\tCurrently on batch number 180 of 185\n",
      "Currently on Epoch 2\n",
      "\tCurrently on batch number 20 of 185\n",
      "\tCurrently on batch number 40 of 185\n",
      "\tCurrently on batch number 60 of 185\n",
      "\tCurrently on batch number 80 of 185\n",
      "\tCurrently on batch number 100 of 185\n",
      "\tCurrently on batch number 120 of 185\n",
      "\tCurrently on batch number 140 of 185\n",
      "\tCurrently on batch number 160 of 185\n",
      "\tCurrently on batch number 180 of 185\n",
      "Currently on Epoch 3\n",
      "\tCurrently on batch number 20 of 185\n",
      "\tCurrently on batch number 40 of 185\n",
      "\tCurrently on batch number 60 of 185\n",
      "\tCurrently on batch number 80 of 185\n",
      "\tCurrently on batch number 100 of 185\n",
      "\tCurrently on batch number 120 of 185\n",
      "\tCurrently on batch number 140 of 185\n",
      "\tCurrently on batch number 160 of 185\n",
      "\tCurrently on batch number 180 of 185\n",
      "Currently on Epoch 4\n",
      "\tCurrently on batch number 20 of 185\n",
      "\tCurrently on batch number 40 of 185\n",
      "\tCurrently on batch number 60 of 185\n",
      "\tCurrently on batch number 80 of 185\n",
      "\tCurrently on batch number 100 of 185\n",
      "\tCurrently on batch number 120 of 185\n",
      "\tCurrently on batch number 140 of 185\n",
      "\tCurrently on batch number 160 of 185\n",
      "\tCurrently on batch number 180 of 185\n",
      "Currently on Epoch 5\n",
      "\tCurrently on batch number 20 of 185\n",
      "\tCurrently on batch number 40 of 185\n",
      "\tCurrently on batch number 60 of 185\n",
      "\tCurrently on batch number 80 of 185\n",
      "\tCurrently on batch number 100 of 185\n",
      "\tCurrently on batch number 120 of 185\n",
      "\tCurrently on batch number 140 of 185\n",
      "\tCurrently on batch number 160 of 185\n",
      "\tCurrently on batch number 180 of 185\n",
      "Currently on Epoch 6\n",
      "\tCurrently on batch number 20 of 185\n",
      "\tCurrently on batch number 40 of 185\n",
      "\tCurrently on batch number 60 of 185\n",
      "\tCurrently on batch number 80 of 185\n",
      "\tCurrently on batch number 100 of 185\n",
      "\tCurrently on batch number 120 of 185\n",
      "\tCurrently on batch number 140 of 185\n",
      "\tCurrently on batch number 160 of 185\n",
      "\tCurrently on batch number 180 of 185\n",
      "Currently on Epoch 7\n",
      "\tCurrently on batch number 20 of 185\n",
      "\tCurrently on batch number 40 of 185\n",
      "\tCurrently on batch number 60 of 185\n",
      "\tCurrently on batch number 80 of 185\n",
      "\tCurrently on batch number 100 of 185\n",
      "\tCurrently on batch number 120 of 185\n",
      "\tCurrently on batch number 140 of 185\n",
      "\tCurrently on batch number 160 of 185\n",
      "\tCurrently on batch number 180 of 185\n",
      "Currently on Epoch 8\n",
      "\tCurrently on batch number 20 of 185\n",
      "\tCurrently on batch number 40 of 185\n",
      "\tCurrently on batch number 60 of 185\n",
      "\tCurrently on batch number 80 of 185\n",
      "\tCurrently on batch number 100 of 185\n",
      "\tCurrently on batch number 120 of 185\n",
      "\tCurrently on batch number 140 of 185\n",
      "\tCurrently on batch number 160 of 185\n",
      "\tCurrently on batch number 180 of 185\n",
      "Currently on Epoch 9\n",
      "\tCurrently on batch number 20 of 185\n",
      "\tCurrently on batch number 40 of 185\n",
      "\tCurrently on batch number 60 of 185\n",
      "\tCurrently on batch number 80 of 185\n",
      "\tCurrently on batch number 100 of 185\n",
      "\tCurrently on batch number 120 of 185\n",
      "\tCurrently on batch number 140 of 185\n",
      "\tCurrently on batch number 160 of 185\n",
      "\tCurrently on batch number 180 of 185\n",
      "Currently on Epoch 10\n",
      "\tCurrently on batch number 20 of 185\n",
      "\tCurrently on batch number 40 of 185\n",
      "\tCurrently on batch number 60 of 185\n",
      "\tCurrently on batch number 80 of 185\n",
      "\tCurrently on batch number 100 of 185\n",
      "\tCurrently on batch number 120 of 185\n",
      "\tCurrently on batch number 140 of 185\n",
      "\tCurrently on batch number 160 of 185\n",
      "\tCurrently on batch number 180 of 185\n",
      "Currently on Epoch 11\n",
      "\tCurrently on batch number 20 of 185\n",
      "\tCurrently on batch number 40 of 185\n",
      "\tCurrently on batch number 60 of 185\n",
      "\tCurrently on batch number 80 of 185\n",
      "\tCurrently on batch number 100 of 185\n",
      "\tCurrently on batch number 120 of 185\n",
      "\tCurrently on batch number 140 of 185\n",
      "\tCurrently on batch number 160 of 185\n",
      "\tCurrently on batch number 180 of 185\n",
      "Currently on Epoch 12\n",
      "\tCurrently on batch number 20 of 185\n",
      "\tCurrently on batch number 40 of 185\n",
      "\tCurrently on batch number 60 of 185\n",
      "\tCurrently on batch number 80 of 185\n",
      "\tCurrently on batch number 100 of 185\n",
      "\tCurrently on batch number 120 of 185\n",
      "\tCurrently on batch number 140 of 185\n",
      "\tCurrently on batch number 160 of 185\n",
      "\tCurrently on batch number 180 of 185\n",
      "Currently on Epoch 13\n",
      "\tCurrently on batch number 20 of 185\n",
      "\tCurrently on batch number 40 of 185\n",
      "\tCurrently on batch number 60 of 185\n",
      "\tCurrently on batch number 80 of 185\n",
      "\tCurrently on batch number 100 of 185\n",
      "\tCurrently on batch number 120 of 185\n",
      "\tCurrently on batch number 140 of 185\n",
      "\tCurrently on batch number 160 of 185\n",
      "\tCurrently on batch number 180 of 185\n",
      "Currently on Epoch 14\n",
      "\tCurrently on batch number 20 of 185\n",
      "\tCurrently on batch number 40 of 185\n",
      "\tCurrently on batch number 60 of 185\n",
      "\tCurrently on batch number 80 of 185\n",
      "\tCurrently on batch number 100 of 185\n",
      "\tCurrently on batch number 120 of 185\n",
      "\tCurrently on batch number 140 of 185\n",
      "\tCurrently on batch number 160 of 185\n",
      "\tCurrently on batch number 180 of 185\n",
      "Currently on Epoch 15\n",
      "\tCurrently on batch number 20 of 185\n",
      "\tCurrently on batch number 40 of 185\n",
      "\tCurrently on batch number 60 of 185\n",
      "\tCurrently on batch number 80 of 185\n",
      "\tCurrently on batch number 100 of 185\n",
      "\tCurrently on batch number 120 of 185\n",
      "\tCurrently on batch number 140 of 185\n",
      "\tCurrently on batch number 160 of 185\n",
      "\tCurrently on batch number 180 of 185\n",
      "Currently on Epoch 16\n",
      "\tCurrently on batch number 20 of 185\n",
      "\tCurrently on batch number 40 of 185\n",
      "\tCurrently on batch number 60 of 185\n",
      "\tCurrently on batch number 80 of 185\n",
      "\tCurrently on batch number 100 of 185\n",
      "\tCurrently on batch number 120 of 185\n",
      "\tCurrently on batch number 140 of 185\n",
      "\tCurrently on batch number 160 of 185\n",
      "\tCurrently on batch number 180 of 185\n",
      "Currently on Epoch 17\n",
      "\tCurrently on batch number 20 of 185\n",
      "\tCurrently on batch number 40 of 185\n",
      "\tCurrently on batch number 60 of 185\n",
      "\tCurrently on batch number 80 of 185\n",
      "\tCurrently on batch number 100 of 185\n",
      "\tCurrently on batch number 120 of 185\n",
      "\tCurrently on batch number 140 of 185\n",
      "\tCurrently on batch number 160 of 185\n",
      "\tCurrently on batch number 180 of 185\n",
      "Currently on Epoch 18\n",
      "\tCurrently on batch number 20 of 185\n",
      "\tCurrently on batch number 40 of 185\n",
      "\tCurrently on batch number 60 of 185\n",
      "\tCurrently on batch number 80 of 185\n",
      "\tCurrently on batch number 100 of 185\n",
      "\tCurrently on batch number 120 of 185\n",
      "\tCurrently on batch number 140 of 185\n",
      "\tCurrently on batch number 160 of 185\n",
      "\tCurrently on batch number 180 of 185\n",
      "Currently on Epoch 19\n",
      "\tCurrently on batch number 20 of 185\n",
      "\tCurrently on batch number 40 of 185\n",
      "\tCurrently on batch number 60 of 185\n",
      "\tCurrently on batch number 80 of 185\n",
      "\tCurrently on batch number 100 of 185\n",
      "\tCurrently on batch number 120 of 185\n",
      "\tCurrently on batch number 140 of 185\n",
      "\tCurrently on batch number 160 of 185\n",
      "\tCurrently on batch number 180 of 185\n",
      "Currently on Epoch 20\n",
      "\tCurrently on batch number 20 of 185\n",
      "\tCurrently on batch number 40 of 185\n",
      "\tCurrently on batch number 60 of 185\n",
      "\tCurrently on batch number 80 of 185\n",
      "\tCurrently on batch number 100 of 185\n",
      "\tCurrently on batch number 120 of 185\n",
      "\tCurrently on batch number 140 of 185\n",
      "\tCurrently on batch number 160 of 185\n",
      "\tCurrently on batch number 180 of 185\n",
      "TRAINING COMPLETE\n"
     ]
    }
   ],
   "source": [
    "# Grab the seprate components\n",
    "generator, discriminator = GAN.layers\n",
    "\n",
    "# For every epcoh\n",
    "for epoch in range(epochs):\n",
    "    print(f\"Currently on Epoch {epoch+1}\")\n",
    "    i = 0\n",
    "    # For every batch in the dataset\n",
    "    for X_batch in dataset:\n",
    "        i=i+1\n",
    "        if i%20 == 0:\n",
    "            print(f\"\\tCurrently on batch number {i} of {len(my_data)//batch_size}\")\n",
    "        #####################################\n",
    "        ## TRAINING THE DISCRIMINATOR ######\n",
    "        ###################################\n",
    "        \n",
    "        # Create Noise\n",
    "        noise = tf.random.normal(shape=[batch_size, codings_size])\n",
    "        \n",
    "        # Generate numbers based just on noise input\n",
    "        gen_images = generator(noise)\n",
    "        \n",
    "        # Concatenate Generated Images against the Real Ones\n",
    "        # TO use tf.concat, the data types must match!\n",
    "        X_fake_vs_real = tf.concat([gen_images, tf.dtypes.cast(X_batch,tf.float32)], axis=0)\n",
    "        \n",
    "        # Targets set to zero for fake images and 1 for real images\n",
    "        y1 = tf.constant([[0.]] * batch_size + [[1.]] * batch_size)\n",
    "        \n",
    "        # This gets rid of a Keras warning\n",
    "        discriminator.trainable = True\n",
    "        \n",
    "        # Train the discriminator on this batch\n",
    "        discriminator.train_on_batch(X_fake_vs_real, y1)\n",
    "        \n",
    "        \n",
    "        #####################################\n",
    "        ## TRAINING THE GENERATOR     ######\n",
    "        ###################################\n",
    "        \n",
    "        # Create some noise\n",
    "        noise = tf.random.normal(shape=[batch_size, codings_size])\n",
    "        \n",
    "        # We want discriminator to belive that fake images are real\n",
    "        y2 = tf.constant([[1.]] * batch_size)\n",
    "        \n",
    "        # Avois a warning\n",
    "        discriminator.trainable = False\n",
    "        \n",
    "        GAN.train_on_batch(noise, y2)\n",
    "        \n",
    "print(\"TRAINING COMPLETE\")            "
   ]
  },
  {
   "cell_type": "code",
   "execution_count": 31,
   "metadata": {},
   "outputs": [],
   "source": [
    "# Most likely your generator will only learn to create one type of noisey zero\n",
    "# Regardless of what noise is passed in."
   ]
  },
  {
   "cell_type": "markdown",
   "metadata": {},
   "source": [
    "https://www.quora.com/What-does-it-mean-if-all-produced-images-of-a-GAN-look-the-same"
   ]
  },
  {
   "cell_type": "code",
   "execution_count": 55,
   "metadata": {},
   "outputs": [],
   "source": [
    "noise = tf.random.normal(shape=[10, codings_size])"
   ]
  },
  {
   "cell_type": "code",
   "execution_count": 56,
   "metadata": {},
   "outputs": [
    {
     "data": {
      "text/plain": [
       "TensorShape([10, 100])"
      ]
     },
     "execution_count": 56,
     "metadata": {},
     "output_type": "execute_result"
    }
   ],
   "source": [
    "noise.shape"
   ]
  },
  {
   "cell_type": "code",
   "execution_count": 57,
   "metadata": {},
   "outputs": [
    {
     "data": {
      "text/plain": [
       "<matplotlib.image.AxesImage at 0x2803c509438>"
      ]
     },
     "execution_count": 57,
     "metadata": {},
     "output_type": "execute_result"
    },
    {
     "data": {
      "image/png": "[encoded data removed]",
      "text/plain": [
       "<Figure size 432x288 with 1 Axes>"
      ]
     },
     "metadata": {
      "needs_background": "light"
     },
     "output_type": "display_data"
    }
   ],
   "source": [
    "plt.imshow(noise)"
   ]
  },
  {
   "cell_type": "code",
   "execution_count": 58,
   "metadata": {},
   "outputs": [],
   "source": [
    "images = generator(noise)"
   ]
  },
  {
   "cell_type": "code",
   "execution_count": 61,
   "metadata": {},
   "outputs": [],
   "source": [
    "single_image = images[1]"
   ]
  },
  {
   "cell_type": "code",
   "execution_count": 37,
   "metadata": {},
   "outputs": [],
   "source": [
    "# single_image.numpy().reshape(28,28)"
   ]
  },
  {
   "cell_type": "code",
   "execution_count": 62,
   "metadata": {},
   "outputs": [
    {
     "data": {
      "image/png": "[encoded data removed]",
      "text/plain": [
       "<Figure size 432x288 with 1 Axes>"
      ]
     },
     "metadata": {
      "needs_background": "light"
     },
     "output_type": "display_data"
    },
    {
     "data": {
      "image/png": "[encoded data removed]",
      "text/plain": [
       "<Figure size 432x288 with 1 Axes>"
      ]
     },
     "metadata": {
      "needs_background": "light"
     },
     "output_type": "display_data"
    },
    {
     "data": {
      "image/png": "[encoded data removed]",
      "text/plain": [
       "<Figure size 432x288 with 1 Axes>"
      ]
     },
     "metadata": {
      "needs_background": "light"
     },
     "output_type": "display_data"
    },
    {
     "data": {
      "image/png": "[encoded data removed]",
      "text/plain": [
       "<Figure size 432x288 with 1 Axes>"
      ]
     },
     "metadata": {
      "needs_background": "light"
     },
     "output_type": "display_data"
    },
    {
     "data": {
      "image/png": "[encoded data removed]",
      "text/plain": [
       "<Figure size 432x288 with 1 Axes>"
      ]
     },
     "metadata": {
      "needs_background": "light"
     },
     "output_type": "display_data"
    },
    {
     "data": {
      "image/png": "[encoded data removed]",
      "text/plain": [
       "<Figure size 432x288 with 1 Axes>"
      ]
     },
     "metadata": {
      "needs_background": "light"
     },
     "output_type": "display_data"
    },
    {
     "data": {
      "image/png": "[encoded data removed]",
      "text/plain": [
       "<Figure size 432x288 with 1 Axes>"
      ]
     },
     "metadata": {
      "needs_background": "light"
     },
     "output_type": "display_data"
    },
    {
     "data": {
      "image/png": "[encoded data removed]",
      "text/plain": [
       "<Figure size 432x288 with 1 Axes>"
      ]
     },
     "metadata": {
      "needs_background": "light"
     },
     "output_type": "display_data"
    },
    {
     "data": {
      "image/png": "[encoded data removed]",
      "text/plain": [
       "<Figure size 432x288 with 1 Axes>"
      ]
     },
     "metadata": {
      "needs_background": "light"
     },
     "output_type": "display_data"
    },
    {
     "data": {
      "image/png": "[encoded data removed]",
      "text/plain": [
       "<Figure size 432x288 with 1 Axes>"
      ]
     },
     "metadata": {
      "needs_background": "light"
     },
     "output_type": "display_data"
    }
   ],
   "source": [
    "for image in images:\n",
    "    plt.imshow(image.numpy().reshape(28,28))\n",
    "    plt.show()"
   ]
  },
  {
   "cell_type": "markdown",
   "metadata": {},
   "source": [
    "**Review our conclusion video to learn about what is state-of-the-art in this field! We need very powerful GPUs to achieve realistic results!**"
   ]
  }
 ],
 "metadata": {
  "kernelspec": {
   "display_name": "Python 3",
   "language": "python",
   "name": "python3"
  },
  "language_info": {
   "codemirror_mode": {
    "name": "ipython",
    "version": 3
   },
   "file_extension": ".py",
   "mimetype": "text/x-python",
   "name": "python",
   "nbconvert_exporter": "python",
   "pygments_lexer": "ipython3",
   "version": "3.6.13"
  }
 },
 "nbformat": 4,
 "nbformat_minor": 2
}
